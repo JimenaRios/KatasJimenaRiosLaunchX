{
 "cells": [
  {
   "cell_type": "markdown",
   "metadata": {},
   "source": [
    "## Ejercicio 1: Creación de un bucle \"while\""
   ]
  },
  {
   "cell_type": "code",
   "execution_count": 10,
   "metadata": {},
   "outputs": [
    {
     "name": "stdout",
     "output_type": "stream",
     "text": [
      "['mars', 'venus', 'earth', 'jupyter']\n"
     ]
    }
   ],
   "source": [
    "new_planet = input()\n",
    "planets = []\n",
    "\n",
    "while new_planet.lower() != \"done\":\n",
    "    if new_planet:\n",
    "        planets.append(new_planet)\n",
    "    new_planet = input(\"Write a planet of the Solar System\")\n",
    "\n",
    "print(planets)"
   ]
  },
  {
   "cell_type": "markdown",
   "metadata": {},
   "source": [
    "## Ejercicio 2: Creación de un ciclo \"for\""
   ]
  },
  {
   "cell_type": "code",
   "execution_count": 14,
   "metadata": {},
   "outputs": [
    {
     "name": "stdout",
     "output_type": "stream",
     "text": [
      "mars\n",
      "venus\n",
      "earth\n",
      "jupyter\n"
     ]
    }
   ],
   "source": [
    "new_planet = input()\n",
    "planets = []\n",
    "\n",
    "while new_planet.lower() != \"done\":\n",
    "    if new_planet:\n",
    "        planets.append(new_planet)\n",
    "    new_planet = input(\"Write a planet of the Solar System\")\n",
    "\n",
    "for planet in planets:\n",
    "    print(planet)"
   ]
  }
 ],
 "metadata": {
  "interpreter": {
   "hash": "4beecfbeaaf65c640dc50e6074b32e2061160094dda80c3c97f301eee2f3f768"
  },
  "kernelspec": {
   "display_name": "Python 3.10.2 64-bit (windows store)",
   "language": "python",
   "name": "python3"
  },
  "language_info": {
   "codemirror_mode": {
    "name": "ipython",
    "version": 3
   },
   "file_extension": ".py",
   "mimetype": "text/x-python",
   "name": "python",
   "nbconvert_exporter": "python",
   "pygments_lexer": "ipython3",
   "version": "3.10.2"
  },
  "orig_nbformat": 4
 },
 "nbformat": 4,
 "nbformat_minor": 2
}
