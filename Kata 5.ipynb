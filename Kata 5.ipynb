{
 "cells": [
  {
   "cell_type": "markdown",
   "metadata": {},
   "source": [
    "## Ejercicio1 - Utilizar operadores aritméticos"
   ]
  },
  {
   "cell_type": "code",
   "execution_count": 3,
   "metadata": {},
   "outputs": [
    {
     "name": "stdout",
     "output_type": "stream",
     "text": [
      "628949330\n",
      "390577533.93\n"
     ]
    }
   ],
   "source": [
    "earth = 149597870\n",
    "jupyter = 778547200\n",
    "\n",
    "distance_km = (jupyter - earth)\n",
    "distance_mi = distance_km  * 0.621\n",
    "\n",
    "print(distance_km)\n",
    "print(distance_mi)"
   ]
  },
  {
   "cell_type": "markdown",
   "metadata": {},
   "source": [
    "## Ejercicio 2: convierte cadenas en números y usa valores absolutos"
   ]
  },
  {
   "cell_type": "code",
   "execution_count": 7,
   "metadata": {},
   "outputs": [
    {
     "name": "stdout",
     "output_type": "stream",
     "text": [
      "227900000\n",
      "1433500000\n",
      "-1205600000\n",
      "748677600.0\n"
     ]
    }
   ],
   "source": [
    "planet_1 = int(input(\"Escribe la distancia del sol de un planeta:\"))\n",
    "planet_2 = int(input(\"Escribe la distancia del sol de otro planeta:\"))\n",
    "\n",
    "distance_km = planet_1 - abs(planet_2)\n",
    "\n",
    "distance_mi = distance_km *  0.621\n",
    "\n",
    "print(planet_1)\n",
    "print(planet_2)\n",
    "print(distance_km)\n",
    "print(abs(distance_mi))\n"
   ]
  }
 ],
 "metadata": {
  "interpreter": {
   "hash": "f21ff6035dfd57f72a0fd8bb90e967ce5a55f81221555a41f3b9f6ce571655e7"
  },
  "kernelspec": {
   "display_name": "Python 3.10.2 64-bit",
   "language": "python",
   "name": "python3"
  },
  "language_info": {
   "codemirror_mode": {
    "name": "ipython",
    "version": 3
   },
   "file_extension": ".py",
   "mimetype": "text/x-python",
   "name": "python",
   "nbconvert_exporter": "python",
   "pygments_lexer": "ipython3",
   "version": "3.10.2"
  },
  "orig_nbformat": 4
 },
 "nbformat": 4,
 "nbformat_minor": 2
}
