{
 "cells": [
  {
   "cell_type": "markdown",
   "metadata": {},
   "source": [
    "## Ejercicio1: Crear y usar listas de Python"
   ]
  },
  {
   "cell_type": "code",
   "execution_count": 27,
   "metadata": {},
   "outputs": [
    {
     "name": "stdout",
     "output_type": "stream",
     "text": [
      "['Mercury', 'Venus', 'Earth', 'Mars', 'Jupiter', 'Saturn', 'Uranus', 'Neptune']\n",
      "8\n",
      "Planets in the Solar System:  ['Mercury', 'Venus', 'Earth', 'Mars', 'Jupiter', 'Saturn', 'Uranus', 'Neptune', 'Pluto'] Number of planets:  9\n",
      "Last planet:  Pluto\n"
     ]
    }
   ],
   "source": [
    "planets = ['Mercury', 'Venus', 'Earth', 'Mars', 'Jupiter', 'Saturn', 'Uranus', 'Neptune']\n",
    "all_planets = len(planets)\n",
    "\n",
    "print(planets)\n",
    "print(all_planets)\n",
    "\n",
    "new_planet = planets.append('Pluto')\n",
    "all_planets = len(planets)\n",
    "\n",
    "print('Planets in the Solar System: ', planets, 'Number of planets: ', all_planets)\n",
    "print('Last planet: ', planets[-1])\n",
    "\n",
    "\n"
   ]
  },
  {
   "cell_type": "markdown",
   "metadata": {},
   "source": [
    "## Ejercicio 2: Trabajando con datos de una lista"
   ]
  },
  {
   "cell_type": "code",
   "execution_count": 41,
   "metadata": {},
   "outputs": [
    {
     "name": "stdout",
     "output_type": "stream",
     "text": [
      "3\n",
      "Planets closer to the sun:  ['Mercury', 'Venus', 'Earth', 'Mars']\n",
      "Planets far from the sun:  ['Jupiter', 'Saturn', 'Neptune']\n"
     ]
    }
   ],
   "source": [
    "planets = ['Mercury', 'Venus', 'Earth', 'Mars', 'Jupiter', 'Saturn', 'Neptune']\n",
    "\n",
    "what_planet = input('Write the name of a planet, start with capital letter: ')\n",
    "\n",
    "planet_list = planets.index(what_planet)\n",
    "\n",
    "print(planet_list)\n",
    "\n",
    "planets_closer = planets[0:4]\n",
    "\n",
    "print(\"Planets closer to the sun: \", planets_closer)\n",
    "\n",
    "planets_distant = planets[4:]\n",
    "\n",
    "print(\"Planets far from the sun: \", planets_distant)"
   ]
  }
 ],
 "metadata": {
  "interpreter": {
   "hash": "4beecfbeaaf65c640dc50e6074b32e2061160094dda80c3c97f301eee2f3f768"
  },
  "kernelspec": {
   "display_name": "Python 3.10.2 64-bit (windows store)",
   "language": "python",
   "name": "python3"
  },
  "language_info": {
   "codemirror_mode": {
    "name": "ipython",
    "version": 3
   },
   "file_extension": ".py",
   "mimetype": "text/x-python",
   "name": "python",
   "nbconvert_exporter": "python",
   "pygments_lexer": "ipython3",
   "version": "3.10.2"
  },
  "orig_nbformat": 4
 },
 "nbformat": 4,
 "nbformat_minor": 2
}
