{
 "cells": [
  {
   "cell_type": "markdown",
   "metadata": {},
   "source": [
    "## Ejercicio 1: Transformar cadenas"
   ]
  },
  {
   "cell_type": "code",
   "execution_count": 16,
   "metadata": {},
   "outputs": [
    {
     "name": "stdout",
     "output_type": "stream",
     "text": [
      "\n",
      "On average, the Moon moves 4cm away from the Earth every year\n",
      "The highest daylight temperature of the Moon is 127 C.\n"
     ]
    }
   ],
   "source": [
    "text = \"\"\"Interesting facts about the Moon. The Moon is Earth's only satellite. There are several interesting facts about the Moon and how it affects life here on Earth. \n",
    "On average, the Moon moves 4cm away from the Earth every year. This yearly drift is not significant enough to cause immediate effects on Earth. The highest daylight temperature of the Moon is 127 C.\"\"\"\n",
    "\n",
    "text_divided = text.split('. ')\n",
    "\n",
    "hints = ['average', 'temperature', 'distance']\n",
    "\n",
    "for item in text_divided:\n",
    "    for hint in hints:\n",
    "        if hint in item:\n",
    "            print(item)\n",
    "            break"
   ]
  },
  {
   "cell_type": "markdown",
   "metadata": {},
   "source": [
    "## Ejercicio 2"
   ]
  },
  {
   "cell_type": "code",
   "execution_count": 34,
   "metadata": {},
   "outputs": [
    {
     "name": "stdout",
     "output_type": "stream",
     "text": [
      "Gravity Facts about Moon\n",
      "-------------------------------------------------------------\n",
      "Planet Name: Earth \n",
      "Gravity on Moon: 1.6199999999999999 m/s2\n"
     ]
    }
   ],
   "source": [
    "name = \"Moon\"\n",
    "gravity = 0.00162\n",
    "planet = \"Earth\"\n",
    "\n",
    "title = f\"Gravity Facts about {name}\"\n",
    "\n",
    "facts = f\"Planet Name: {planet} \\nGravity on {name}: {gravity * 1000} m/s2\"\n",
    "\n",
    "\n",
    "print(title)\n",
    "print(\"-------------------------------------------------------------\")\n",
    "print(facts)\n",
    "\n"
   ]
  },
  {
   "cell_type": "code",
   "execution_count": 33,
   "metadata": {},
   "outputs": [
    {
     "name": "stdout",
     "output_type": "stream",
     "text": [
      "Gravity Facts about Ganímedes\n",
      "-------------------------------------------------------------\n",
      "Planet Name: Mars \n",
      "Gravity on Ganímedes: 1.4300000000000002 m/s2\n"
     ]
    }
   ],
   "source": [
    "name = \"Ganímedes\"\n",
    "gravity = 0.00143\n",
    "planet = \"Mars\"\n",
    "\n",
    "title = f\"Gravity Facts about {name}\"\n",
    "\n",
    "facts = f\"Planet Name: {planet} \\nGravity on {name}: {gravity * 1000} m/s2\"\n",
    "\n",
    "print(title)\n",
    "print(\"-------------------------------------------------------------\")\n",
    "print(facts)\n"
   ]
  }
 ],
 "metadata": {
  "interpreter": {
   "hash": "f21ff6035dfd57f72a0fd8bb90e967ce5a55f81221555a41f3b9f6ce571655e7"
  },
  "kernelspec": {
   "display_name": "Python 3.10.2 64-bit",
   "language": "python",
   "name": "python3"
  },
  "language_info": {
   "codemirror_mode": {
    "name": "ipython",
    "version": 3
   },
   "file_extension": ".py",
   "mimetype": "text/x-python",
   "name": "python",
   "nbconvert_exporter": "python",
   "pygments_lexer": "ipython3",
   "version": "3.10.2"
  },
  "orig_nbformat": 4
 },
 "nbformat": 4,
 "nbformat_minor": 2
}
