{
 "cells": [
  {
   "cell_type": "markdown",
   "metadata": {},
   "source": [
    "## Ejercicio\n",
    "Un asteroide se acerca, y viaja a una velocidad de 49 km/s."
   ]
  },
  {
   "cell_type": "code",
   "execution_count": 9,
   "metadata": {},
   "outputs": [
    {
     "name": "stdout",
     "output_type": "stream",
     "text": [
      "Un asteroide se acerca a la Tierra demasiado rápido.\n"
     ]
    }
   ],
   "source": [
    "velocidad = 49\n",
    "\n",
    "if velocidad > 25:\n",
    "    print(\"Un asteroide se acerca a la Tierra demasiado rápido.\")\n",
    "else:\n",
    "    print(\"No hay peligro, sigue tu día.\")"
   ]
  },
  {
   "cell_type": "markdown",
   "metadata": {},
   "source": [
    "Asteroide que se dirige a la tierra a una velocidad de 19 km/s."
   ]
  },
  {
   "cell_type": "code",
   "execution_count": 15,
   "metadata": {},
   "outputs": [
    {
     "name": "stdout",
     "output_type": "stream",
     "text": [
      "No busquen un asteroide en el cielo.\n"
     ]
    }
   ],
   "source": [
    "velocidad = 19\n",
    "\n",
    "if velocidad >= 20:\n",
    "    print(\"Busquen un asteroide en el cielo.\")\n",
    "elif velocidad < 20:\n",
    "    print(\"No busquen un asteroide en el cielo.\")\n",
    "else:\n",
    "    print(\"No hay asteroides cerca.\")"
   ]
  },
  {
   "cell_type": "markdown",
   "metadata": {},
   "source": [
    " Uso de operadores and y or."
   ]
  },
  {
   "cell_type": "code",
   "execution_count": 23,
   "metadata": {},
   "outputs": [
    {
     "name": "stdout",
     "output_type": "stream",
     "text": [
      "Asteroide que causa mucho daño.\n"
     ]
    }
   ],
   "source": [
    "metros = int(input())\n",
    "velocidad = int(input())\n",
    "\n",
    "if metros > 25 and metros < 1000:\n",
    "    print(\"Asteroide que causa mucho daño.\")\n",
    "elif velocidad > 25:\n",
    "    print(\"Advertencia: Ateroide\")\n",
    "elif velocidad >= 20:\n",
    "    print(\"Busquen un asteroide en el cielo.\")\n",
    "else:\n",
    "    print(\"No hay asteroides cerca.\")"
   ]
  }
 ],
 "metadata": {
  "interpreter": {
   "hash": "f21ff6035dfd57f72a0fd8bb90e967ce5a55f81221555a41f3b9f6ce571655e7"
  },
  "kernelspec": {
   "display_name": "Python 3.10.2 64-bit",
   "language": "python",
   "name": "python3"
  },
  "language_info": {
   "codemirror_mode": {
    "name": "ipython",
    "version": 3
   },
   "file_extension": ".py",
   "mimetype": "text/x-python",
   "name": "python",
   "nbconvert_exporter": "python",
   "pygments_lexer": "ipython3",
   "version": "3.10.2"
  },
  "orig_nbformat": 4
 },
 "nbformat": 4,
 "nbformat_minor": 2
}
